{
 "cells": [
  {
   "cell_type": "code",
   "execution_count": null,
   "id": "d52f7ed9",
   "metadata": {},
   "outputs": [],
   "source": [
    "import numpy as np\n",
    "\n"
   ]
  },
  {
   "cell_type": "code",
   "execution_count": 1,
   "id": "90df27ec",
   "metadata": {},
   "outputs": [
    {
     "ename": "NameError",
     "evalue": "name 'np' is not defined",
     "output_type": "error",
     "traceback": [
      "\u001b[1;31m---------------------------------------------------------------------------\u001b[0m",
      "\u001b[1;31mNameError\u001b[0m                                 Traceback (most recent call last)",
      "Input \u001b[1;32mIn [1]\u001b[0m, in \u001b[0;36m<cell line: 18>\u001b[1;34m()\u001b[0m\n\u001b[0;32m     15\u001b[0m     \u001b[38;5;28;01mreturn\u001b[39;00m np\u001b[38;5;241m.\u001b[39mmean(intervalo)\n\u001b[0;32m     17\u001b[0m \u001b[38;5;66;03m# Exemplo de uso\u001b[39;00m\n\u001b[1;32m---> 18\u001b[0m chute \u001b[38;5;241m=\u001b[39m \u001b[43mchute_inicial\u001b[49m\u001b[43m(\u001b[49m\u001b[43mfuncao_intrinseca\u001b[49m\u001b[43m)\u001b[49m\n\u001b[0;32m     19\u001b[0m \u001b[38;5;28mprint\u001b[39m(\u001b[38;5;124m\"\u001b[39m\u001b[38;5;124mChute inicial:\u001b[39m\u001b[38;5;124m\"\u001b[39m, chute)\n",
      "Input \u001b[1;32mIn [1]\u001b[0m, in \u001b[0;36mchute_inicial\u001b[1;34m(funcao, intervalo, num_pontos)\u001b[0m\n\u001b[0;32m      4\u001b[0m \u001b[38;5;28;01mdef\u001b[39;00m \u001b[38;5;21mchute_inicial\u001b[39m(funcao, intervalo\u001b[38;5;241m=\u001b[39m(\u001b[38;5;241m0\u001b[39m, \u001b[38;5;241m10\u001b[39m), num_pontos\u001b[38;5;241m=\u001b[39m\u001b[38;5;241m100\u001b[39m):\n\u001b[0;32m      5\u001b[0m     \u001b[38;5;66;03m# Gere um número de pontos igualmente espaçados no intervalo fornecido\u001b[39;00m\n\u001b[1;32m----> 6\u001b[0m     x_valores \u001b[38;5;241m=\u001b[39m \u001b[43mnp\u001b[49m\u001b[38;5;241m.\u001b[39mlinspace(intervalo[\u001b[38;5;241m0\u001b[39m], intervalo[\u001b[38;5;241m1\u001b[39m], num_pontos)\n\u001b[0;32m      7\u001b[0m     y_valores \u001b[38;5;241m=\u001b[39m funcao(x_valores)\n\u001b[0;32m      9\u001b[0m     \u001b[38;5;66;03m# Encontre o ponto onde a função muda de sinal\u001b[39;00m\n",
      "\u001b[1;31mNameError\u001b[0m: name 'np' is not defined"
     ]
    }
   ],
   "source": [
    "def funcao_intrinseca(x):\n",
    "    return x**2 - 4*x + 4  # Exemplo de função intrínseca. Substitua pela sua função.\n",
    "\n",
    "def chute_inicial(funcao, intervalo=(0, 10), num_pontos=100):\n",
    "    # Gere um número de pontos igualmente espaçados no intervalo fornecido\n",
    "    x_valores = np.linspace(intervalo[0], intervalo[1], num_pontos)\n",
    "    y_valores = funcao(x_valores)\n",
    "    \n",
    "    # Encontre o ponto onde a função muda de sinal\n",
    "    for i in range(len(y_valores) - 1):\n",
    "        if y_valores[i] * y_valores[i+1] <= 0:\n",
    "            # Retorna o ponto médio entre os dois pontos onde a função muda de sinal\n",
    "            return (x_valores[i] + x_valores[i+1]) / 2\n",
    "    # Se não for encontrado um ponto de mudança de sinal, retorna o valor médio do intervalo\n",
    "    return np.mean(intervalo)\n",
    "\n",
    "# Exemplo de uso\n",
    "chute = chute_inicial(funcao_intrinseca)\n",
    "print(\"Chute inicial:\", chute)\n"
   ]
  },
  {
   "cell_type": "code",
   "execution_count": 1,
   "id": "74305406",
   "metadata": {},
   "outputs": [
    {
     "name": "stdout",
     "output_type": "stream",
     "text": [
      "Coeficiente de inclinação (slope): 0.9\n",
      "Intercepto (intercept): 1.2999999999999998\n",
      "Erro padrão do coeficiente de inclinação: 0.25166114784235827\n",
      "R-quadrado: 0.81\n",
      "Valor-p: 0.03738607346849863\n"
     ]
    }
   ],
   "source": [
    "import numpy as np\n",
    "from scipy.stats import linregress\n",
    "\n",
    "# Dados de exemplo\n",
    "x = np.array([1, 2, 3, 4, 5])\n",
    "y = np.array([2, 3, 5, 4, 6])\n",
    "\n",
    "# Ajuste da regressão linear\n",
    "slope, intercept, r_value, p_value, std_err = linregress(x, y)\n",
    "\n",
    "# Coeficientes da reta\n",
    "print(\"Coeficiente de inclinação (slope):\", slope)\n",
    "print(\"Intercepto (intercept):\", intercept)\n",
    "\n",
    "# Erros associados aos coeficientes\n",
    "print(\"Erro padrão do coeficiente de inclinação:\", std_err)\n",
    "\n",
    "# Valor de R-quadrado\n",
    "print(\"R-quadrado:\", r_value**2)\n",
    "\n",
    "# Valor-p para teste de significância do coeficiente de inclinação\n",
    "print(\"Valor-p:\", p_value)\n"
   ]
  },
  {
   "cell_type": "code",
   "execution_count": 2,
   "id": "272c5bd6",
   "metadata": {},
   "outputs": [
    {
     "name": "stdout",
     "output_type": "stream",
     "text": [
      "Coeficiente de inclinação (slope): 0.9000000000000002\n",
      "Intercepto (intercept): 1.2999999999999994\n",
      "Previsões para novos valores de X: [6.7 7.6 8.5]\n"
     ]
    }
   ],
   "source": [
    "from sklearn.linear_model import LinearRegression\n",
    "import numpy as np\n",
    "\n",
    "# Dados de exemplo\n",
    "X = np.array([[1], [2], [3], [4], [5]])  # Variável independente\n",
    "y = np.array([2, 3, 5, 4, 6])  # Variável dependente\n",
    "\n",
    "# Criando e ajustando o modelo de regressão linear\n",
    "model = LinearRegression().fit(X, y)\n",
    "\n",
    "# Coeficientes da reta\n",
    "print(\"Coeficiente de inclinação (slope):\", model.coef_[0])\n",
    "print(\"Intercepto (intercept):\", model.intercept_)\n",
    "\n",
    "# Fazendo previsões\n",
    "new_x = np.array([[6], [7], [8]])  # Novos dados de X para prever\n",
    "predicted_y = model.predict(new_x)\n",
    "print(\"Previsões para novos valores de X:\", predicted_y)\n"
   ]
  },
  {
   "cell_type": "code",
   "execution_count": null,
   "id": "e6ba7983",
   "metadata": {},
   "outputs": [],
   "source": []
  }
 ],
 "metadata": {
  "kernelspec": {
   "display_name": "Python 3 (ipykernel)",
   "language": "python",
   "name": "python3"
  },
  "language_info": {
   "codemirror_mode": {
    "name": "ipython",
    "version": 3
   },
   "file_extension": ".py",
   "mimetype": "text/x-python",
   "name": "python",
   "nbconvert_exporter": "python",
   "pygments_lexer": "ipython3",
   "version": "3.9.12"
  }
 },
 "nbformat": 4,
 "nbformat_minor": 5
}
